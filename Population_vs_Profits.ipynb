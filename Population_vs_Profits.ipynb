{
  "nbformat": 4,
  "nbformat_minor": 0,
  "metadata": {
    "colab": {
      "provenance": [],
      "authorship_tag": "ABX9TyOomw2QWzPr+BPQtwIK1H61",
      "include_colab_link": true
    },
    "kernelspec": {
      "name": "python3",
      "display_name": "Python 3"
    },
    "language_info": {
      "name": "python"
    }
  },
  "cells": [
    {
      "cell_type": "markdown",
      "metadata": {
        "id": "view-in-github",
        "colab_type": "text"
      },
      "source": [
        "<a href=\"https://colab.research.google.com/github/parthu-333/Population-vs-Profits/blob/main/Population_vs_Profits.ipynb\" target=\"_parent\"><img src=\"https://colab.research.google.com/assets/colab-badge.svg\" alt=\"Open In Colab\"/></a>"
      ]
    },
    {
      "cell_type": "markdown",
      "source": [
        "**Linear Regression**"
      ],
      "metadata": {
        "id": "otRby6of1dTX"
      }
    },
    {
      "cell_type": "markdown",
      "source": [
        "1. Packages"
      ],
      "metadata": {
        "id": "dEAN_mpH2BHI"
      }
    },
    {
      "cell_type": "code",
      "source": [
        "import numpy as np\n",
        "import pandas as pd\n",
        "import matplotlib.pyplot as plt\n",
        "import copy\n",
        "import math\n",
        "%matplotlib inline"
      ],
      "metadata": {
        "id": "oM8JyPOp1K_t"
      },
      "execution_count": 1,
      "outputs": []
    },
    {
      "cell_type": "markdown",
      "source": [],
      "metadata": {
        "id": "-xogPZwyOYyQ"
      }
    },
    {
      "cell_type": "markdown",
      "source": [
        "2. Load the dataset"
      ],
      "metadata": {
        "id": "fgo9xY4k3AXw"
      }
    },
    {
      "cell_type": "code",
      "source": [
        "df = pd.read_csv(\"/content/ex1data1.txt\")\n",
        "columns = {col: df[col].to_numpy() for col in df.columns}\n",
        "x_train = columns[df.columns[0]]\n",
        "y_train = columns[df.columns[1]]"
      ],
      "metadata": {
        "id": "uY_2A2f7NZ-U"
      },
      "execution_count": 3,
      "outputs": []
    },
    {
      "cell_type": "markdown",
      "source": [
        "3. First five elements"
      ],
      "metadata": {
        "id": "MT7bcy7ORPHM"
      }
    },
    {
      "cell_type": "code",
      "source": [
        "print(\"First five elements of x_train are :\\n\",x_train[:5])\n",
        "print(\"First five elements of y_train are :\\n\",y_train[:5])\n",
        "print(\"Number of training exmples (m): \",len(x_train))"
      ],
      "metadata": {
        "colab": {
          "base_uri": "https://localhost:8080/"
        },
        "id": "bJ752haERUf1",
        "outputId": "2a9872c9-28aa-4400-d3ac-4779ba6fa64d"
      },
      "execution_count": 4,
      "outputs": [
        {
          "output_type": "stream",
          "name": "stdout",
          "text": [
            "First five elements of x_train are :\n",
            " [5.5277 8.5186 7.0032 5.8598 8.3829]\n",
            "First five elements of y_train are :\n",
            " [ 9.1302 13.662  11.854   6.8233 11.886 ]\n",
            "Number of training exmples (m):  96\n"
          ]
        }
      ]
    },
    {
      "cell_type": "markdown",
      "source": [
        "# New Section"
      ],
      "metadata": {
        "id": "J1l1kWZqvr2o"
      }
    },
    {
      "cell_type": "markdown",
      "source": [
        "4. Visualizing the data"
      ],
      "metadata": {
        "id": "Md7OqIQFYTib"
      }
    },
    {
      "cell_type": "code",
      "source": [
        "plt.scatter(x_train,y_train,marker='x',c='r')\n",
        "plt.title(\"Profits vs Population\")\n",
        "plt.ylabel(\"Profits in 10,000\")\n",
        "plt.xlabel(\"Population in 10,000\")\n",
        "plt.show()"
      ],
      "metadata": {
        "colab": {
          "base_uri": "https://localhost:8080/",
          "height": 492
        },
        "collapsed": true,
        "id": "I68jYRATYdMx",
        "outputId": "840d3a36-d115-4745-84ec-ea2c90d1a9d0"
      },
      "execution_count": 5,
      "outputs": [
        {
          "output_type": "display_data",
          "data": {
            "text/plain": [
              "<Figure size 640x480 with 1 Axes>"
            ],
            "image/png": "[encoded data removed]"
          },
          "metadata": {}
        }
      ]
    },
    {
      "cell_type": "markdown",
      "source": [
        "5. Compute cost"
      ],
      "metadata": {
        "id": "e5OrRQW3fI1W"
      }
    },
    {
      "cell_type": "code",
      "source": [
        "def compute_cost(x,y,w,b):\n",
        "  #Number of training examples\n",
        "  m = x.shape[0]\n",
        "  total_cost = 0\n",
        "  cost_sum = 0\n",
        "  for i in range(m):\n",
        "    f_wb = w*x[i]+b\n",
        "    cost = (f_wb - y[i])**2\n",
        "    cost_sum = cost_sum + cost\n",
        "  total_cost = (cost_sum)/(2*m)\n",
        "  return total_cost"
      ],
      "metadata": {
        "id": "JuedFGZgfOD5"
      },
      "execution_count": 6,
      "outputs": []
    },
    {
      "cell_type": "markdown",
      "source": [
        "6. Compute Gradient"
      ],
      "metadata": {
        "id": "SHVeZNb2KBe0"
      }
    },
    {
      "cell_type": "code",
      "source": [
        "def compute_gradient(x,y,w,b):\n",
        "  #Number of training examples\n",
        "  m = x.shape[0]\n",
        "  #Return variables at last\n",
        "  dj_dw = 0\n",
        "  dj_db = 0\n",
        "  for i in range(m):\n",
        "    f_wb = w*x[i]+b\n",
        "    dj_dw = dj_dw+(f_wb - y[i])*x[i]\n",
        "    dj_db = dj_db + (f_wb - y[i])\n",
        "  dj_dw = dj_dw/m\n",
        "  dj_db = dj_db/m\n",
        "  return dj_dw,dj_db"
      ],
      "metadata": {
        "id": "ZiIRqB_aK2km"
      },
      "execution_count": 7,
      "outputs": []
    },
    {
      "cell_type": "markdown",
      "source": [
        "7. Gradient descent"
      ],
      "metadata": {
        "id": "2-_kxAULQW0F"
      }
    },
    {
      "cell_type": "code",
      "source": [
        "def gradient_descent(x, y, w_in, b_in, cost_function, gradient_function, alpha, num_iters):\n",
        "\n",
        "    # number of training examples\n",
        "    m = len(x)\n",
        "\n",
        "    # An array to store cost J and w's at each iteration — primarily for graphing later\n",
        "    J_history = []\n",
        "    w_history = []\n",
        "    w = copy.deepcopy(w_in)  #avoid modifying global w within function\n",
        "    b = b_in\n",
        "\n",
        "    for i in range(num_iters):\n",
        "\n",
        "        # Calculate the gradient and update the parameters\n",
        "        dj_dw, dj_db = compute_gradient(x, y, w, b )\n",
        "\n",
        "        # Update Parameters using w, b, alpha and gradient\n",
        "        w = w - alpha * dj_dw\n",
        "        b = b - alpha * dj_db\n",
        "\n",
        "        # Save cost J at each iteration\n",
        "        if i<100000:      # prevent resource exhaustion\n",
        "            cost =  compute_cost(x, y, w, b)\n",
        "            J_history.append(cost)\n",
        "\n",
        "        # Print cost every at intervals 10 times or as many iterations if < 10\n",
        "        if i% math.ceil(num_iters/10) == 0:\n",
        "            w_history.append(w)\n",
        "            print(f\"Iteration {i:4}: Cost {float(J_history[-1]):8.2f}   \")\n",
        "\n",
        "    return w, b, J_history, w_history #return w and J,w history for graphing"
      ],
      "metadata": {
        "id": "sZNAhJ-_MIum"
      },
      "execution_count": 8,
      "outputs": []
    },
    {
      "cell_type": "code",
      "source": [
        "initial_w = 0.\n",
        "initial_b = 0.\n",
        "\n",
        "# some gradient descent settings\n",
        "iterations = 1500\n",
        "alpha = 0.01\n",
        "\n",
        "w,b,_,_ = gradient_descent(x_train ,y_train, initial_w, initial_b,\n",
        "                     compute_cost, compute_gradient, alpha, iterations)\n",
        "print(\"w,b found by gradient descent:\", w, b)"
      ],
      "metadata": {
        "colab": {
          "base_uri": "https://localhost:8080/"
        },
        "id": "yQHTPz5iQrPs",
        "outputId": "e09ae23a-e469-4730-f051-fe67622389ba"
      },
      "execution_count": 9,
      "outputs": [
        {
          "output_type": "stream",
          "name": "stdout",
          "text": [
            "Iteration    0: Cost     5.90   \n",
            "Iteration  150: Cost     4.43   \n",
            "Iteration  300: Cost     4.02   \n",
            "Iteration  450: Cost     3.79   \n",
            "Iteration  600: Cost     3.65   \n",
            "Iteration  750: Cost     3.57   \n",
            "Iteration  900: Cost     3.52   \n",
            "Iteration 1050: Cost     3.50   \n",
            "Iteration 1200: Cost     3.48   \n",
            "Iteration 1350: Cost     3.47   \n",
            "w,b found by gradient descent: 1.1849957023502022 -3.926439005456633\n"
          ]
        }
      ]
    },
    {
      "cell_type": "markdown",
      "source": [
        "8. Predicted values"
      ],
      "metadata": {
        "id": "CnG2xXjdQ8Vf"
      }
    },
    {
      "cell_type": "code",
      "source": [
        "m = x_train.shape[0]\n",
        "predicted = np.zeros(m)\n",
        "for i in range(m):\n",
        "  predicted[i] = w*x_train[i]+b"
      ],
      "metadata": {
        "id": "CuT6NgU3RKnT"
      },
      "execution_count": 10,
      "outputs": []
    },
    {
      "cell_type": "markdown",
      "source": [
        "9. Plotting linear fit"
      ],
      "metadata": {
        "id": "_vgbVHkVRp6u"
      }
    },
    {
      "cell_type": "code",
      "source": [
        "plt.plot(x_train,predicted,c=\"b\")\n",
        "plt.scatter(x_train,y_train,marker='x',c='r')\n",
        "plt.title(\"Profits vs Population per city\")\n",
        "plt.ylabel(\"Profits in 10,000\")\n",
        "plt.xlabel(\"Population in 10,000s\")\n"
      ],
      "metadata": {
        "id": "mZuEf99jRt5S",
        "colab": {
          "base_uri": "https://localhost:8080/",
          "height": 509
        },
        "outputId": "1b60f6e0-23df-41a0-d59a-4c7a49b75ee0"
      },
      "execution_count": 11,
      "outputs": [
        {
          "output_type": "execute_result",
          "data": {
            "text/plain": [
              "Text(0.5, 0, 'Population in 10,000s')"
            ]
          },
          "metadata": {},
          "execution_count": 11
        },
        {
          "output_type": "display_data",
          "data": {
            "text/plain": [
              "<Figure size 640x480 with 1 Axes>"
            ],
            "image/png": "[encoded data removed]"
          },
          "metadata": {}
        }
      ]
    },
    {
      "cell_type": "markdown",
      "source": [
        "9. Ready to make prediction"
      ],
      "metadata": {
        "id": "nNERwDzUSqbC"
      }
    },
    {
      "cell_type": "code",
      "source": [
        "profit1 = 3.5*w+b\n",
        "print('For population 35,000, predicted profit is : $%.2f'%(profit1*10000))\n",
        "profit2 = 7.5*w+b\n",
        "print('For population 75,000, predicted profit is : $%.2f'%(profit2*10000))\n"
      ],
      "metadata": {
        "colab": {
          "base_uri": "https://localhost:8080/"
        },
        "id": "gfK3PXgWSx-W",
        "outputId": "3b8fa6c4-210c-4fa8-8495-fe0467a6205d"
      },
      "execution_count": 12,
      "outputs": [
        {
          "output_type": "stream",
          "name": "stdout",
          "text": [
            "For population 35,000, predicted profit is : $2210.46\n",
            "For population 75,000, predicted profit is : $49610.29\n"
          ]
        }
      ]
    }
  ]
}